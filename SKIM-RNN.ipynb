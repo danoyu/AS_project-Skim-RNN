{
 "cells": [
  {
   "cell_type": "code",
   "execution_count": 1,
   "metadata": {},
   "outputs": [],
   "source": [
    "import numpy as np\n",
    "import torch\n",
    "import torchvision\n",
    "import unicodedata\n",
    "import string\n",
    "import re\n",
    "import random\n",
    "import pickle as pkl\n",
    "from torch import nn\n",
    "from torch.autograd import Variable\n",
    "\n",
    "def load_tsv(filename):\n",
    "    phID, stcID, ph, sentiment = [],[],[],[]\n",
    "    with open(filename) as f: \n",
    "        l = f.readline()\n",
    "        if (len(l.split(\"\\t\")) == 4):\n",
    "            '''TRAIN dataset'''\n",
    "            for line in f:\n",
    "                l = line.split(\"\\t\")\n",
    "                if (int(l[3][0]) < 2):\n",
    "                    phID.append(l[0]), stcID.append(l[1]), ph.append(l[2]), sentiment.append(0)\n",
    "                else:\n",
    "                    phID.append(l[0]), stcID.append(l[1]), ph.append(l[2]), sentiment.append(1)\n",
    "        else:\n",
    "            for line in f:\n",
    "                l = line.split(\"\\t\")\n",
    "                phID.append(l[0]), stcID.append(l[1]), ph.append(l[2])\n",
    "                \n",
    "    return np.array(phID).astype(int), np.array(stcID).astype(int), np.array(ph), np.array(sentiment).astype(int)\n",
    "\n",
    "        \n",
    "    \n",
    "phraseID, sentenceID, sentences, sentiment = load_tsv(\"SKIM-RNN/train.tsv\")"
   ]
  },
  {
   "cell_type": "code",
   "execution_count": 38,
   "metadata": {},
   "outputs": [],
   "source": [
    "'''Trim, Store, Count, Index words from dataset'''\n",
    "\n",
    "SOS_token = 0\n",
    "EOS_token = 1\n",
    "\n",
    "class Preprocesser():\n",
    "    \n",
    "    '''main functions'''\n",
    "    def __init__(self,corpus):\n",
    "        '''corpus : np_array(string)'''\n",
    "        self.word2index = {}\n",
    "        self.word2count = {}\n",
    "        self.index2word = {0: \"SOS\", 1: \"EOS\"}\n",
    "        self.n_words = 2  # Count SOS and EOS\n",
    "        self.corpus = corpus\n",
    "        self.size = len(corpus)\n",
    "    \n",
    "    # Lowercase, trim, and remove non-letter characters\n",
    "    # (no stop words in skim rnn ?)\n",
    "    def normalize(self):\n",
    "        new_corpus = np.array([])\n",
    "        steps,i = np.arange(0,self.size,self.size/10),0\n",
    "        for s in self.corpus:\n",
    "            uni_s = s.tostring().decode('unicode-escape')\n",
    "            uni_s = self.unicodeToAscii(uni_s.lower().strip())\n",
    "            uni_s = re.sub(r\"([.!?])\", r\" \\1\", uni_s)\n",
    "            uni_s = re.sub(r\"[^a-zA-Z.!?]+\", r\" \", uni_s)\n",
    "            new_corpus = np.append(new_corpus, uni_s)\n",
    "            if (i in steps):\n",
    "                print (\"...\")\n",
    "            i+=1\n",
    "        self.corpus = new_corpus\n",
    "\n",
    "\n",
    "    def addSentences(self):\n",
    "        for sentence in self.corpus:\n",
    "            self.addSentence(sentence)\n",
    "        \n",
    "    '''called within the module:'''\n",
    "    def unicodeToAscii(self,s):\n",
    "        return ''.join(\n",
    "            c for c in unicodedata.normalize('NFD', s)\n",
    "            if unicodedata.category(c) != 'Mn'\n",
    "        )\n",
    "\n",
    "        \n",
    "    def addSentence(self, sentence):\n",
    "        for word in sentence.split(' '):\n",
    "            self.addWord(word)\n",
    "\n",
    "    def addWord(self, word):\n",
    "        if word not in self.word2index:\n",
    "            self.word2index[word] = self.n_words\n",
    "            self.word2count[word] = 1\n",
    "            self.index2word[self.n_words] = word\n",
    "            self.n_words += 1\n",
    "        else:\n",
    "            self.word2count[word] += 1\n",
    "            \n",
    "            \n",
    "    def save(self,filename):\n",
    "        pkl.dump(self.corpus,open(filename+\"_corpus.pkl\",'wb'))\n",
    "        pkl.dump(self.word2count,open(filename+\"_w2c.pkl\",'wb'))\n",
    "        pkl.dump(self.word2index,open(filename+\"_w2i.pkl\",'wb'))\n",
    "        pkl.dump(self.index2word,open(filename+\"_i2w.pkl\", 'wb'))\n",
    "\n",
    " "
   ]
  },
  {
   "cell_type": "code",
   "execution_count": 39,
   "metadata": {
    "scrolled": true
   },
   "outputs": [
    {
     "name": "stdout",
     "output_type": "stream",
     "text": [
      "...\n",
      "...\n",
      "...\n",
      "...\n",
      "...\n",
      "...\n",
      "...\n",
      "...\n",
      "...\n",
      "...\n"
     ]
    }
   ],
   "source": [
    "preprocesser = Preprocesser(sentences)\n",
    "preprocesser.normalize()\n",
    "preprocesser.addSentences()\n",
    "\n",
    "preprocesser.save(\"preprocessing_IMDB\")\n",
    "\n",
    "\n",
    "#corpus = pkl.load(\"preprocessing_IMDB_corpus.pkl\")\n",
    "#w2c = pkl.load(\"preprocessing_IMDB_w2c.pkl\")\n",
    "#w2i = pkl.load(\"preprocessing_IMDB_w2i.pkl\")\n",
    "#i2w = pkl.load(\"preprocessing_IMDB_i2w.pkl\")\n",
    "\n",
    "#preprocesser = Preprocesser(corpus)\n",
    "#preprocesser.word2count = w2c\n",
    "#preprocesser.index2word = i2w\n",
    "#preprocesser.word2index = w2i\n",
    "#preprocesser.n_words = len(word2count.keys())"
   ]
  },
  {
   "cell_type": "code",
   "execution_count": 40,
   "metadata": {},
   "outputs": [],
   "source": [
    "'''RNN module : embedding layer -> gru layer -> linear layer (for output classification) -> softmax'''\n",
    "\n",
    "class RNN(nn.Module):\n",
    "    \n",
    "    def __init__(self, input_size, hidden_size, output_size, n_layers=1):\n",
    "        super(RNN, self).__init__()\n",
    "        self.n_layers = n_layers\n",
    "        self.hidden_size = hidden_size\n",
    "        self.embedding = nn.Embedding(input_size, hidden_size)\n",
    "        self.gru = nn.GRU(hidden_size, hidden_size)\n",
    "        \n",
    "        self.h20 = nn.Linear(hidden_size, output_size)\n",
    "        self.softmax = nn.LogSoftmax()\n",
    "\n",
    "    def forward(self, input, hidden):\n",
    "        embedded = self.embedding(input).view(1 , 1, -1)\n",
    "        output = embedded\n",
    "        for i in range(self.n_layers):\n",
    "            output, hidden = self.gru(output, hidden)\n",
    "            output = self.h20(output)\n",
    "            output = self.softmax(output)\n",
    "            #lstm - > (input, (hidden,c <- ???) , cf pytorch doc, 'initial cell state')\n",
    "        return output, hidden\n",
    "\n",
    "    def initHidden(self):\n",
    "        return Variable(torch.zeros(1, 1, self.hidden_size))"
   ]
  },
  {
   "cell_type": "code",
   "execution_count": 56,
   "metadata": {},
   "outputs": [],
   "source": [
    "def indexesFromSentence(lang, sentence):\n",
    "    return [lang.word2index[word] for word in sentence.split(' ')]\n",
    "\n",
    "\n",
    "def variableFromSentence(lang, sentence):\n",
    "    indexes = indexesFromSentence(lang, sentence)\n",
    "    indexes.append(EOS_token)\n",
    "    result = Variable(torch.LongTensor(indexes).view(-1, 1))\n",
    "    return result\n",
    "\n",
    "\n",
    "def makeInputTarget(lang, sentence, target, n_classes=2):\n",
    "    input_variable = variableFromSentence(lang, sentence)\n",
    "    if target >= n_classes:\n",
    "        print 'target not in range (0, #classes - 1)'\n",
    "        return -1\n",
    "    target_variable = Variable(torch.LongTensor([target]))\n",
    "    return (input_variable, target_variable)\n"
   ]
  },
  {
   "cell_type": "code",
   "execution_count": 86,
   "metadata": {},
   "outputs": [],
   "source": [
    "def train(input,target,rnn, optimizer, criterion):\n",
    "    hidden = rnn.initHidden()\n",
    "\n",
    "    rnn.zero_grad()\n",
    "    input_length = input.size()[0]\n",
    "\n",
    "    for ei in range(input_length):\n",
    "        output, hidden = rnn(input[ei], hidden)\n",
    "    \n",
    "    loss = criterion(output.view(1,-1), target)\n",
    "    loss.backward()\n",
    "\n",
    "    optimizer.step()\n",
    "    return output ,loss.data[0]\n"
   ]
  },
  {
   "cell_type": "code",
   "execution_count": 89,
   "metadata": {},
   "outputs": [],
   "source": [
    "from torch import optim\n",
    "rnn =  RNN(preprocesser.n_words, 128, 2)\n",
    "criterion = nn.NLLLoss()\n",
    "optimizer = optim.SGD(rnn.parameters(), lr=1e-1)\n",
    "losses = []\n",
    "for i in range(500):\n",
    "    \n",
    "    s,t =preprocesser.corpus[i], sentiment[i]\n",
    "    input,target =  makeInputTarget(preprocesser, s, t)\n",
    "    \n",
    "    output, l = train(input,target,rnn,optimizer,criterion)\n",
    "    losses.append(l)"
   ]
  },
  {
   "cell_type": "code",
   "execution_count": 90,
   "metadata": {},
   "outputs": [
    {
     "data": {
      "text/plain": [
       "[<matplotlib.lines.Line2D at 0x7fc2182a3f10>]"
      ]
     },
     "execution_count": 90,
     "metadata": {},
     "output_type": "execute_result"
    },
    {
     "data": {
      "image/png": "[encoded data removed]",
      "text/plain": [
       "<matplotlib.figure.Figure at 0x7fc2184be450>"
      ]
     },
     "metadata": {},
     "output_type": "display_data"
    }
   ],
   "source": [
    "%matplotlib inline\n",
    "import matplotlib.pyplot as plt\n",
    "\n",
    "plt.plot(losses) "
   ]
  },
  {
   "cell_type": "code",
   "execution_count": 64,
   "metadata": {},
   "outputs": [
    {
     "data": {
      "text/plain": [
       "156060"
      ]
     },
     "execution_count": 64,
     "metadata": {},
     "output_type": "execute_result"
    }
   ],
   "source": [
    "len(sentences)"
   ]
  },
  {
   "cell_type": "code",
   "execution_count": null,
   "metadata": {},
   "outputs": [],
   "source": []
  },
  {
   "cell_type": "code",
   "execution_count": null,
   "metadata": {},
   "outputs": [],
   "source": []
  }
 ],
 "metadata": {
  "kernelspec": {
   "display_name": "Python 2",
   "language": "python",
   "name": "python2"
  },
  "language_info": {
   "codemirror_mode": {
    "name": "ipython",
    "version": 2
   },
   "file_extension": ".py",
   "mimetype": "text/x-python",
   "name": "python",
   "nbconvert_exporter": "python",
   "pygments_lexer": "ipython2",
   "version": "2.7.14"
  }
 },
 "nbformat": 4,
 "nbformat_minor": 1
}

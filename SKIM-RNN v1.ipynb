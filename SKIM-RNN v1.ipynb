{
 "cells": [
  {
   "cell_type": "markdown",
   "metadata": {},
   "source": [
    "importer données rotten tomatoes"
   ]
  },
  {
   "cell_type": "code",
   "execution_count": 1,
   "metadata": {},
   "outputs": [],
   "source": [
    "import numpy as np\n",
    "import torch\n",
    "from torch import nn\n",
    "from torch.autograd import Variable\n",
    "from torch import optim\n",
    "\n",
    "import preprocesser\n",
    "import outils\n",
    "import modules\n",
    "    \n",
    "phraseID, sentenceID, sentences, sentiment = outils.load_tsv(\"../train.tsv\")\n",
    "train_indexes, test_indexes = outils.split_train_test(phraseID)"
   ]
  },
  {
   "cell_type": "markdown",
   "metadata": {},
   "source": [
    "Module de preprocessing"
   ]
  },
  {
   "cell_type": "markdown",
   "metadata": {},
   "source": [
    "Fonctions pour la gestion des inputs "
   ]
  },
  {
   "cell_type": "code",
   "execution_count": 2,
   "metadata": {
    "scrolled": true
   },
   "outputs": [],
   "source": [
    "#lang = preprocesser.Preprocesser(sentences)\n",
    "#lang.normalize()\n",
    "#lang.addSentences()\n",
    "#lang.save(\"preprocessing_IMDB\")\n",
    "\n",
    "\n",
    "lang = preprocesser.Preprocesser({})\n",
    "lang.load(\"../../preprocessing_IMDB\")"
   ]
  },
  {
   "cell_type": "markdown",
   "metadata": {},
   "source": [
    "Fonctions pour l'apprentissage"
   ]
  },
  {
   "cell_type": "code",
   "execution_count": 10,
   "metadata": {
    "scrolled": true
   },
   "outputs": [
    {
     "name": "stdout",
     "output_type": "stream",
     "text": [
      "0\n",
      "5\n",
      "10\n",
      "15\n",
      "20\n",
      "25\n",
      "30\n",
      "35\n"
     ]
    }
   ],
   "source": [
    "def X(p,g,i,temperature):\n",
    "    return np.exp((p[i]+g[i])/temperature)\n",
    "\n",
    "#size parameters\n",
    "embedding_size = 512\n",
    "d = 200\n",
    "dprime = 20\n",
    "#modules\n",
    "embedder = nn.Embedding(lang.n_words,embedding_size)\n",
    "selector = modules.Selector(embedding_size+d)\n",
    "skim_rnn = modules.RNN(embedding_size,dprime,2)\n",
    "rnn = modules.RNN(embedding_size,d,2)\n",
    "#loss criteria and optimizers\n",
    "criterion = nn.NLLLoss()\n",
    "test_criterion = nn.L1Loss()\n",
    "optim_selector = optim.SGD(selector.parameters(), lr=1e-2)\n",
    "optim_rnn = optim.SGD([{'params':skim_rnn.parameters()},{'params':rnn.parameters()}], lr=1e-2)\n",
    "#other variables\n",
    "skimcount,count = 0,0\n",
    "temperature, gamma = 0.5,0.02\n",
    "global_losses, accs = [], []\n",
    "epoch,mod=0,5\n",
    "\n",
    "for epoch in range(40):\n",
    "    #training snippet\n",
    "    for i in train_indexes[:1000]:\n",
    "        logp_skim = []\n",
    "        loss, selector_loss= 0,0\n",
    "        #make the input and the target\n",
    "        sentence, target = lang.corpus[i], sentiment[i]\n",
    "        input, target = preprocesser.makeInputTarget(lang,sentence,target)\n",
    "        input_size = input.size()[0]\n",
    "        hidden = rnn.initHidden()\n",
    "        #go through each word\n",
    "        for word in range(input_size):\n",
    "            optim_selector.zero_grad(), optim_rnn.zero_grad()\n",
    "            x = Variable(input[word])\n",
    "            embedding = embedder(x).view(1,1,-1)\n",
    "            #go through the selector\n",
    "            x = torch.cat((embedding, hidden),2).view(1,-1)\n",
    "            p = selector(x)\n",
    "            logp_skim.append(p.data[0,1])     #skimming proba, for regularization purposes\n",
    "            q = torch.multinomial(p.exp())\n",
    "            choice = int(q.data[0,0])\n",
    "\n",
    "            if choice == 0:\n",
    "                #go through the normal RNN\n",
    "                output, hidden = rnn(embedding, hidden)\n",
    "\n",
    "            else:\n",
    "                #go through the skim rnn, which implies 'cutting' the hidden state,\n",
    "                #running through the neural network, and building the new hidden state.\n",
    "                h0 = hidden.view(-1)[:dprime]\n",
    "                output, h0 = skim_rnn(embedding, h0.view(1,1,-1))\n",
    "                h1 = hidden.view(-1)[dprime:]\n",
    "                hidden = torch.cat( (h0.view(1,1,-1), h1.view(1,1,-1)), 2)\n",
    "                skimcount +=1\n",
    "            count += 1\n",
    "            \n",
    "            #compute losses\n",
    "            loss += criterion(output,target)\n",
    "            r_word = torch.FloatTensor([outils.r(p, outils.gumbel(), temperature)[0].prod()])\n",
    "            #selector_loss += p.view(-1)[choice]*Variable(loss.data * r_word)\n",
    "\n",
    "            \n",
    "            ####################derivee à la main #########################################\n",
    "            g = outils.gumbel()\n",
    "            if choice==0:\n",
    "                selector_loss += loss.data*( - X(p.view(-1).data,g,0,temperature) / ( (temperature*np.exp(p.view(-1).data[1]))*(X(p.view(-1).data,g,0,temperature) + X(p.view(-1).data,g,1,temperature))) )\n",
    "            else:\n",
    "                selector_loss += loss.data*( - X(p.view(-1).data,g,1,temperature) / ( (temperature*np.exp(p.view(-1).data[0]))*(X(p.view(-1).data,g,0,temperature) + X(p.view(-1).data,g,1,temperature))) )\n",
    "        \n",
    "        #final losses calculations, backwards, and gradient steps\n",
    "        selector_loss = Variable(selector_loss) #+ (gamma/input_size) * np.sum(logp_skim)\n",
    "        loss.backward(retain_graph=True)\n",
    "        #selector_loss.backward()\n",
    "\n",
    "        selector.linear.weight.data -= selector_loss.data*1e-2\n",
    "        optim_rnn.step()\n",
    "        #optim_selector.step()\n",
    "\n",
    "        \n",
    "    if epoch%mod == 0:\n",
    "        global_losses.append((loss.data[0], selector_loss.data[0]))\n",
    "        accs.append(accuracy(test_indexes[:50], lang, embedder, selector, rnn, skim_rnn))\n",
    "        print epoch\n",
    "        \n",
    "    epoch += 1\n",
    "    \n",
    "    \n",
    "    '''debug prints\n",
    "    print '//////////////////'\n",
    "    test = selector.linear.weight\n",
    "    \n",
    "    print skim_rnn.h20.weight\n",
    "    '''\n",
    "    \n",
    "    "
   ]
  },
  {
   "cell_type": "code",
   "execution_count": 16,
   "metadata": {},
   "outputs": [
    {
     "data": {
      "text/plain": [
       "<matplotlib.text.Text at 0x7f1c98bf9fd0>"
      ]
     },
     "execution_count": 16,
     "metadata": {},
     "output_type": "execute_result"
    },
    {
     "data": {
      "image/png": "[encoded data removed]",
      "text/plain": [
       "<matplotlib.figure.Figure at 0x7f1c98c78510>"
      ]
     },
     "metadata": {},
     "output_type": "display_data"
    }
   ],
   "source": [
    "%matplotlib inline\n",
    "import matplotlib.pyplot as plt\n",
    "plt.plot(accs)\n",
    "plt.title(\"Acuracy (%) au cours des epochs (GRU)\")"
   ]
  },
  {
   "cell_type": "markdown",
   "metadata": {},
   "source": [
    "sauvegarder un modèle appris"
   ]
  },
  {
   "cell_type": "code",
   "execution_count": 19,
   "metadata": {},
   "outputs": [],
   "source": [
    "import pickle as pkl\n",
    "pkl.dump(embedder,open(\"models/embedder.p\",\"wb\"))\n",
    "pkl.dump(selector,open(\"models/selector.p\",\"wb\"))\n",
    "pkl.dump(skim_rnn,open(\"models/skim_rnn.p\",\"wb\"))\n",
    "pkl.dump(rnn,open(\"models/rnn.p\",\"wb\"))"
   ]
  },
  {
   "cell_type": "markdown",
   "metadata": {},
   "source": [
    "# TODO\n",
    "\n",
    "          \n",
    "- inputs via glove    (// tester différentes tailles d'embedding)\n",
    "\n",
    "\n",
    "- faire des batchs\n",
    "\n",
    "\n",
    "- implémenter skim rnn avec option lstm\n",
    "\n",
    "            DONE\n",
    "\n",
    "\n",
    "- implémenter fonctions d'évaluations\n",
    "\n",
    "\n",
    "- hyperparamètrages\n",
    "\n",
    "\n",
    "- accuracy qui augmente, loss qui diminue, OK; mais sans la régularisation"
   ]
  },
  {
   "cell_type": "markdown",
   "metadata": {},
   "source": [
    "#TESTS\n",
    "\n",
    "- Résultats et Temps de Calculs\n",
    "    - Skip RNN (d=0)\n",
    "\n",
    "    - RNN de base\n",
    "    \n",
    "- IMDB ou AG News\n",
    "\n",
    "\n",
    "- Visualisation des mots skimmés\n",
    "\n",
    "\n",
    "\n",
    "\n"
   ]
  },
  {
   "cell_type": "markdown",
   "metadata": {},
   "source": [
    "Fonction pour l'accuracy"
   ]
  },
  {
   "cell_type": "code",
   "execution_count": 9,
   "metadata": {},
   "outputs": [],
   "source": [
    "def accuracy(indexes,lang,embedder,selector,rnn,skim_rnn):\n",
    "    acc = 0.0\n",
    "    for i in indexes:\n",
    "        s,t =lang.corpus[i], sentiment[i]\n",
    "        input,target =  preprocesser.makeInputTarget(lang, s, t)\n",
    "        input_length = input.size()[0]\n",
    "        \n",
    "        for word in range(input_length):\n",
    "            x, hidden = Variable(input[word]), rnn.initHidden()\n",
    "            embedding = embedder(x).view(1,1,-1)\n",
    "            #go through the selector\n",
    "            x = torch.cat((embedding, hidden),2).view(1,-1)\n",
    "            p = selector(x)\n",
    "        \n",
    "            q = torch.multinomial(p.exp())\n",
    "            choice = int(q.data[0,0])\n",
    "        \n",
    "            if choice == 0:\n",
    "                #go through the normal RNN\n",
    "                output, hidden = rnn(embedding, hidden)\n",
    "        \n",
    "            else:\n",
    "                #go through the skim rnn, which implies 'cutting' the hidden state,\n",
    "                #running through the neural network, and building the new hidden state.\n",
    "                h0 = hidden.view(-1)[:dprime]\n",
    "                output, h0 = skim_rnn(embedding, h0.view(1,1,-1))\n",
    "                h1 = hidden.view(-1)[dprime:]\n",
    "                hidden = torch.cat( (h0.view(1,1,-1), h1.view(1,1,-1)), 2) \n",
    "        if output.exp().multinomial().data[0,0] == target.data[0]:\n",
    "            acc += 1\n",
    "            \n",
    "    return 100*float(acc/len(indexes))"
   ]
  },
  {
   "cell_type": "code",
   "execution_count": 6,
   "metadata": {},
   "outputs": [
    {
     "name": "stdout",
     "output_type": "stream",
     "text": [
      "0\n",
      "1\n",
      "2\n",
      "3\n",
      "4\n",
      "5\n",
      "6\n",
      "7\n",
      "8\n",
      "9\n"
     ]
    }
   ],
   "source": [
    "import modules\n",
    "\n",
    "embedding_size = 512\n",
    "d = 200\n",
    "#modules\n",
    "embedder = nn.Embedding(lang.n_words,embedding_size)\n",
    "rnn = modules.RNN(embedding_size,d,2,cell='lstm')\n",
    "#loss criteria and optimizers\n",
    "criterion = nn.NLLLoss()\n",
    "optim_rnn = optim.Adam(rnn.parameters(), lr=1e-2)\n",
    "#other variables\n",
    "logp = []\n",
    "global_losses, accs = [], []\n",
    "epoch,mod=0,1\n",
    "\n",
    "for epoch in range(10):\n",
    "    #training snippet\n",
    "    for i in train_indexes[:20]:\n",
    "        hidden = rnn.initHidden()\n",
    "        loss = 0\n",
    "        #make the input and the target\n",
    "        sentence, target = lang.corpus[i], sentiment[i]\n",
    "        input, target = preprocesser.makeInputTarget(lang,sentence,target)\n",
    "        input_size = input.size()[0]\n",
    "\n",
    "        #go through each word\n",
    "        for word in range(input_size):\n",
    "            optim_rnn.zero_grad()\n",
    "\n",
    "            x = Variable(input[word])\n",
    "            embedding = embedder(x).view(1,1,-1)\n",
    "            output, hidden = rnn(embedding, hidden)\n",
    "            \n",
    "\n",
    "        loss = criterion(output,target)\n",
    "        loss.backward()\n",
    "        \n",
    "        optim_rnn.step()\n",
    "\n",
    "        \n",
    "    if epoch%mod == 0:\n",
    "        global_losses.append((loss.data[0]))\n",
    "        #accs.append(accuracy(test_indexes[:20], lang, embedder, selector, rnn, skim_rnn))\n",
    "        print epoch\n",
    "        \n",
    "    epoch += 1\n"
   ]
  },
  {
   "cell_type": "code",
   "execution_count": null,
   "metadata": {},
   "outputs": [],
   "source": []
  },
  {
   "cell_type": "code",
   "execution_count": 7,
   "metadata": {},
   "outputs": [
    {
     "data": {
      "text/plain": [
       "[1.582663655281067,\n",
       " 0.6272304654121399,\n",
       " 0.007780063431710005,\n",
       " 0.002306742127984762,\n",
       " 0.0012183331418782473,\n",
       " 0.0008114837110042572,\n",
       " 0.0006233725580386817,\n",
       " 0.0004884500522166491,\n",
       " 0.0003904209879692644,\n",
       " 0.00033812003675848246]"
      ]
     },
     "execution_count": 7,
     "metadata": {},
     "output_type": "execute_result"
    }
   ],
   "source": []
  }
 ],
 "metadata": {
  "kernelspec": {
   "display_name": "Python 2",
   "language": "python",
   "name": "python2"
  },
  "language_info": {
   "codemirror_mode": {
    "name": "ipython",
    "version": 2
   },
   "file_extension": ".py",
   "mimetype": "text/x-python",
   "name": "python",
   "nbconvert_exporter": "python",
   "pygments_lexer": "ipython2",
   "version": "2.7.14"
  }
 },
 "nbformat": 4,
 "nbformat_minor": 1
}
